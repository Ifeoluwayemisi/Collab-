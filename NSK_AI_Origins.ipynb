{
  "nbformat": 4,
  "nbformat_minor": 0,
  "metadata": {
    "colab": {
      "provenance": [],
      "include_colab_link": true
    },
    "kernelspec": {
      "name": "python3",
      "display_name": "Python 3"
    },
    "language_info": {
      "name": "python"
    }
  },
  "cells": [
    {
      "cell_type": "markdown",
      "metadata": {
        "id": "view-in-github",
        "colab_type": "text"
      },
      "source": [
        "<a href=\"https://colab.research.google.com/github/Ifeoluwayemisi/Collab-/blob/main/NSK_AI_Origins.ipynb\" target=\"_parent\"><img src=\"https://colab.research.google.com/assets/colab-badge.svg\" alt=\"Open In Colab\"/></a>"
      ]
    },
    {
      "cell_type": "markdown",
      "source": [],
      "metadata": {
        "id": "J2_oTVJ9U9hf"
      }
    },
    {
      "cell_type": "markdown",
      "source": [
        "# Tokens & Tokenization"
      ],
      "metadata": {
        "id": "b3vEhq2t9_ez"
      }
    },
    {
      "cell_type": "code",
      "source": [],
      "metadata": {
        "id": "xHsFzxVoU9JV"
      },
      "execution_count": 30,
      "outputs": []
    },
    {
      "cell_type": "code",
      "source": [],
      "metadata": {
        "id": "7ZqH_U8iU8of"
      },
      "execution_count": 30,
      "outputs": []
    },
    {
      "cell_type": "code",
      "source": [
        "!pip install sentencepiece --q"
      ],
      "metadata": {
        "id": "RUUcMhLq_r5z"
      },
      "execution_count": 1,
      "outputs": []
    },
    {
      "cell_type": "code",
      "execution_count": 2,
      "metadata": {
        "colab": {
          "base_uri": "https://localhost:8080/"
        },
        "id": "LV8GVEgm91QF",
        "outputId": "99cd2508-61a2-44b4-9006-3bab1e8555a6"
      },
      "outputs": [
        {
          "output_type": "stream",
          "name": "stderr",
          "text": [
            "[nltk_data] Downloading package punkt_tab to /root/nltk_data...\n",
            "[nltk_data]   Unzipping tokenizers/punkt_tab.zip.\n"
          ]
        },
        {
          "output_type": "execute_result",
          "data": {
            "text/plain": [
              "True"
            ]
          },
          "metadata": {},
          "execution_count": 2
        }
      ],
      "source": [
        "# Import tokenizer\n",
        "import nltk\n",
        "from nltk.tokenize import word_tokenize\n",
        "\n",
        "# Load tokens\n",
        "nltk.download('punkt_tab')"
      ]
    },
    {
      "cell_type": "markdown",
      "source": [
        "## Word Tokinization"
      ],
      "metadata": {
        "id": "WLUAYZ2tvKJm"
      }
    },
    {
      "cell_type": "code",
      "metadata": {
        "colab": {
          "base_uri": "https://localhost:8080/"
        },
        "id": "9eddde59",
        "outputId": "4cb30ef4-618f-423b-9f16-10e554c3a37f"
      },
      "source": [
        "# Sample text\n",
        "text = \"Welcome to NSK.AI Bootcamp on RAG!\"\n",
        "\n",
        "# Get word token\n",
        "tokens = word_tokenize(text)\n",
        "\n",
        "print(\"Tokens:\", tokens)"
      ],
      "execution_count": 3,
      "outputs": [
        {
          "output_type": "stream",
          "name": "stdout",
          "text": [
            "Tokens: ['Welcome', 'to', 'NSK.AI', 'Bootcamp', 'on', 'RAG', '!']\n"
          ]
        }
      ]
    },
    {
      "cell_type": "markdown",
      "source": [
        "## Subword tokenization"
      ],
      "metadata": {
        "id": "ahGVFZsTvCQB"
      }
    },
    {
      "cell_type": "code",
      "source": [
        "# Subword tokenization\n",
        "from sentencepiece import SentencePieceTrainer, SentencePieceProcessor\n",
        "\n",
        "# Sample text to write to a file\n",
        "text_data = \"Welcome to NSK.AI Bootcamp on RAG! This is a sample text for training the SentencePiece model.\"\n",
        "\n",
        "# Create a dummy text file for training\n",
        "with open('filename.txt', 'w') as f:\n",
        "    f.write(text_data)\n",
        "\n",
        "# Train a SentencePiece model\n",
        "SentencePieceTrainer.train(\n",
        "    input='filename.txt',\n",
        "    model_prefix='nsk_subword',\n",
        "    vocab_size=179,\n",
        "    model_type='bpe'\n",
        ")\n",
        "\n",
        "# Load the trained model\n",
        "sp = SentencePieceProcessor()\n",
        "sp.load('nsk_subword.model')\n",
        "\n",
        "# Sample text for encoding\n",
        "text = \"Welcome to NSK.AI Bootcamp on RAG!\"\n",
        "\n",
        "# Encode the text into subword tokens\n",
        "subword_tokens = sp.encode_as_pieces(text)\n",
        "\n",
        "print(\"Subword Tokens:\", subword_tokens)"
      ],
      "metadata": {
        "colab": {
          "base_uri": "https://localhost:8080/"
        },
        "id": "GlmcCWhe-9vR",
        "outputId": "d60aeae9-34bc-4a8a-c04c-e28dfffcb6b2"
      },
      "execution_count": 31,
      "outputs": [
        {
          "output_type": "stream",
          "name": "stdout",
          "text": [
            "Subword Tokens: ['▁Welcome', '▁to', '▁NSK', '.', 'AI', '▁Bootcamp', '▁on', '▁RAG', '!']\n"
          ]
        }
      ]
    },
    {
      "cell_type": "markdown",
      "source": [
        "## Character tokenization"
      ],
      "metadata": {
        "id": "dn75GcrNu-nf"
      }
    },
    {
      "cell_type": "code",
      "source": [
        "# Character tokenizer\n",
        "\n",
        "def character_tokenize(text):\n",
        "  return list(text)\n",
        "\n",
        "# Sample text for character tokenization\n",
        "text = \"Welcome to NSK.AI Bootcamp on RAG!\"\n",
        "\n",
        "# Get character tokens\n",
        "character_tokens = character_tokenize(text)\n",
        "\n",
        "print(\"Character Tokens:\", character_tokens)\n"
      ],
      "metadata": {
        "colab": {
          "base_uri": "https://localhost:8080/"
        },
        "id": "PWp_KmsuAAo_",
        "outputId": "5cd35582-8288-4c7a-b011-fae6bf9230f0"
      },
      "execution_count": 5,
      "outputs": [
        {
          "output_type": "stream",
          "name": "stdout",
          "text": [
            "Character Tokens: ['W', 'e', 'l', 'c', 'o', 'm', 'e', ' ', 't', 'o', ' ', 'N', 'S', 'K', '.', 'A', 'I', ' ', 'B', 'o', 'o', 't', 'c', 'a', 'm', 'p', ' ', 'o', 'n', ' ', 'R', 'A', 'G', '!']\n"
          ]
        }
      ]
    },
    {
      "cell_type": "markdown",
      "source": [
        "## Byte Tokenization"
      ],
      "metadata": {
        "id": "LZeF2m2su6a7"
      }
    },
    {
      "cell_type": "code",
      "source": [
        "# Byte Tokens\n",
        "text = \"Ghana\"\n",
        "byte_tokens = list(text.encode(\"utf-8\"))\n",
        "print(byte_tokens)"
      ],
      "metadata": {
        "colab": {
          "base_uri": "https://localhost:8080/"
        },
        "id": "PG4yxuSVu1m6",
        "outputId": "788171be-952e-45be-e2f5-192f735949bd"
      },
      "execution_count": 6,
      "outputs": [
        {
          "output_type": "stream",
          "name": "stdout",
          "text": [
            "[71, 104, 97, 110, 97]\n"
          ]
        }
      ]
    },
    {
      "cell_type": "markdown",
      "source": [
        "## Tokeninzing numbers"
      ],
      "metadata": {
        "id": "sUA_F1LDjbVI"
      }
    },
    {
      "cell_type": "code",
      "source": [
        "# Traditional Tokenization\n",
        "text = \"Ghana's population in 2023 is 34.2 million\"\n",
        "\n",
        "tokens = word_tokenize(text)\n",
        "print(tokens)"
      ],
      "metadata": {
        "colab": {
          "base_uri": "https://localhost:8080/"
        },
        "id": "Q9HN5b-ajacQ",
        "outputId": "6039eeb4-67af-4292-d668-6b7564a55c26"
      },
      "execution_count": 7,
      "outputs": [
        {
          "output_type": "stream",
          "name": "stdout",
          "text": [
            "['Ghana', \"'s\", 'population', 'in', '2023', 'is', '34.2', 'million']\n"
          ]
        }
      ]
    },
    {
      "cell_type": "markdown",
      "source": [
        "## Hybrid Tokenization"
      ],
      "metadata": {
        "id": "hNTRfVMjIg_l"
      }
    },
    {
      "cell_type": "code",
      "source": [
        "# Hybrid Tokenization\n",
        "output = ['Ghana', \"'\", 's', 'population', 'in', '<YEAR>', 'is', '<NUM>', 'million']\n",
        "output"
      ],
      "metadata": {
        "colab": {
          "base_uri": "https://localhost:8080/"
        },
        "id": "1OlL0eJpkd5f",
        "outputId": "9f9a747f-45cb-4009-a6ed-5e17405ac583"
      },
      "execution_count": 8,
      "outputs": [
        {
          "output_type": "execute_result",
          "data": {
            "text/plain": [
              "['Ghana', \"'\", 's', 'population', 'in', '<YEAR>', 'is', '<NUM>', 'million']"
            ]
          },
          "metadata": {},
          "execution_count": 8
        }
      ]
    },
    {
      "cell_type": "markdown",
      "source": [
        "# Neural Network"
      ],
      "metadata": {
        "id": "-6AwrP6qKgq3"
      }
    },
    {
      "cell_type": "code",
      "source": [
        "from tensorflow import keras\n",
        "from tensorflow.keras import Sequential, layers\n",
        "import matplotlib.pyplot as plt"
      ],
      "metadata": {
        "id": "YiYw-zfUKioG"
      },
      "execution_count": 9,
      "outputs": []
    },
    {
      "cell_type": "code",
      "source": [
        "# Load handwritten data\n",
        "handwritten_digits = keras.datasets.mnist\n",
        "\n",
        "# Split the data into training and test sets for evaluation\n",
        "(train_images, train_labels), (test_images, test_labels) = handwritten_digits.load_data()\n",
        "\n",
        "# These are the names of the classes for the various handwritten digits\n",
        "class_names = [0,1,2,3,4,5,6,7,8,9]"
      ],
      "metadata": {
        "colab": {
          "base_uri": "https://localhost:8080/"
        },
        "id": "YVNjq4KTKjfu",
        "outputId": "ae326934-e675-4382-dc77-9946e7791f47"
      },
      "execution_count": 10,
      "outputs": [
        {
          "output_type": "stream",
          "name": "stdout",
          "text": [
            "Downloading data from https://storage.googleapis.com/tensorflow/tf-keras-datasets/mnist.npz\n",
            "\u001b[1m11490434/11490434\u001b[0m \u001b[32m━━━━━━━━━━━━━━━━━━━━\u001b[0m\u001b[37m\u001b[0m \u001b[1m0s\u001b[0m 0us/step\n"
          ]
        }
      ]
    },
    {
      "cell_type": "code",
      "source": [
        "# View 15 of the images\n",
        "\n",
        "plt.figure(figsize=(10,10))\n",
        "for i in range(15):\n",
        "    plt.subplot(5,5,i+1)\n",
        "    plt.xticks([])\n",
        "    plt.yticks([])\n",
        "    plt.grid(False)\n",
        "    plt.imshow(train_images[i], cmap=plt.cm.binary)\n",
        "    plt.xlabel(class_names[train_labels[i]])\n",
        "plt.show()"
      ],
      "metadata": {
        "colab": {
          "base_uri": "https://localhost:8080/",
          "height": 507
        },
        "id": "GQL-9dfZKrGk",
        "outputId": "eae5183d-0099-4e7f-a8d4-d31d307198ce"
      },
      "execution_count": 11,
      "outputs": [
        {
          "output_type": "display_data",
          "data": {
            "text/plain": [
              "<Figure size 1000x1000 with 15 Axes>"
            ],
            "image/png": "[encoded data removed]"
          },
          "metadata": {}
        }
      ]
    },
    {
      "cell_type": "code",
      "source": [
        "# Display a given image\n",
        "plt.figure\n",
        "plt.imshow(train_images[17], cmap=plt.cm.binary)\n",
        "plt.colorbar()\n",
        "plt.grid(False)\n",
        "plt.show()"
      ],
      "metadata": {
        "colab": {
          "base_uri": "https://localhost:8080/",
          "height": 430
        },
        "id": "NpCFofZUK2kF",
        "outputId": "500a9457-5f11-4206-b307-b9715ac5cc30"
      },
      "execution_count": 12,
      "outputs": [
        {
          "output_type": "display_data",
          "data": {
            "text/plain": [
              "<Figure size 640x480 with 2 Axes>"
            ],
            "image/png": "[encoded data removed]"
          },
          "metadata": {}
        }
      ]
    },
    {
      "cell_type": "code",
      "source": [
        "print(train_images[17])"
      ],
      "metadata": {
        "colab": {
          "base_uri": "https://localhost:8080/"
        },
        "id": "ZEyvpXFqJR4O",
        "outputId": "e61cf5a8-b0d4-4306-e1e3-6b6861c81456"
      },
      "execution_count": 13,
      "outputs": [
        {
          "output_type": "stream",
          "name": "stdout",
          "text": [
            "[[  0   0   0   0   0   0   0   0   0   0   0   0   0   0   0   0   0   0\n",
            "    0   0   0   0   0   0   0   0   0   0]\n",
            " [  0   0   0   0   0   0   0   0   0   0   0   0   0   0   0   0   0   0\n",
            "    0   0   0   0   0   0   0   0   0   0]\n",
            " [  0   0   0   0   0   0   0   0   0   0   0   0   0   0   0   0   0   0\n",
            "    0   0   0   0   0   0   0   0   0   0]\n",
            " [  0   0   0   0   0   0   0   0   0   0   0   0   0   0   0   0   0   0\n",
            "    0   0   0   0   0   0   0   0   0   0]\n",
            " [  0   0   0   0   0   0   0   0   0   0   0   0   0   0   0   0   0   0\n",
            "    0   0   0   0   0   0   0   0   0   0]\n",
            " [  0   0   0   0   0   0   0   0   0   0   0   0   0   0   0   0   0   0\n",
            "    0  11 203 229  32   0   0   0   0   0]\n",
            " [  0   0   0   0   0   0   0   0   0   0   0   0   0   0   0  26  47  47\n",
            "   30  95 254 215  13   0   0   0   0   0]\n",
            " [  0   0   0   0   0   0   0   0   0   0   0  45 154 185 185 223 253 253\n",
            "  133 175 255 188  19   0   0   0   0   0]\n",
            " [  0   0   0   0   0   0   0   0   0   0   0 110 253 253 253 246 161 228\n",
            "  253 253 254  92   0   0   0   0   0   0]\n",
            " [  0   0   0   0   0   0   0   0   0   0 128 245 253 158 137  21   0  48\n",
            "  233 253 233   8   0   0   0   0   0   0]\n",
            " [  0   0   0   0   0   0   0   0   0   0 139 254 223  25   0   0  36 170\n",
            "  254 244 106   0   0   0   0   0   0   0]\n",
            " [  0   0   0   0   0   0   0   0   0   0  55 212 253 161  11  26 178 253\n",
            "  236 113   0   0   0   0   0   0   0   0]\n",
            " [  0   0   0   0   0   0   0   0   0   0   7 155 253 228  80 223 253 253\n",
            "  109   0   0   0   0   0   0   0   0   0]\n",
            " [  0   0   0   0   0   0   0   0   0   0   0 141 253 253 253 254 253 154\n",
            "   29   0   0   0   0   0   0   0   0   0]\n",
            " [  0   0   0   0   0   0   0   0   0   0   0 110 253 253 253 254 179  38\n",
            "    0   0   0   0   0   0   0   0   0   0]\n",
            " [  0   0   0   0   0   0   0   0   0   0   3 171 254 254 254 179   0   0\n",
            "    0   0   0   0   0   0   0   0   0   0]\n",
            " [  0   0   0   0   0   0   0   0   0   0 171 253 253 253 253 178   0   0\n",
            "    0   0   0   0   0   0   0   0   0   0]\n",
            " [  0   0   0   0   0   0   0   0  26 123 254 253 203 156 253 200   0   0\n",
            "    0   0   0   0   0   0   0   0   0   0]\n",
            " [  0   0   0   0   0   0   0   0  93 253 254 121  13  93 253 158   0   0\n",
            "    0   0   0   0   0   0   0   0   0   0]\n",
            " [  0   0   0   0   0   0   0  64 239 253  76   8  32 219 253 126   0   0\n",
            "    0   0   0   0   0   0   0   0   0   0]\n",
            " [  0   0   0   0   0   0   0 133 254 191   0   5 108 234 254 106   0   0\n",
            "    0   0   0   0   0   0   0   0   0   0]\n",
            " [  0   0   0   0   0   0   0 132 253 190   5  85 253 236 154   0   0   0\n",
            "    0   0   0   0   0   0   0   0   0   0]\n",
            " [  0   0   0   0   0   0   0 153 253 169 192 253 253  77   0   0   0   0\n",
            "    0   0   0   0   0   0   0   0   0   0]\n",
            " [  0   0   0   0   0   0   0 112 253 253 254 236 129   9   0   0   0   0\n",
            "    0   0   0   0   0   0   0   0   0   0]\n",
            " [  0   0   0   0   0   0   0  17 118 243 191 113   0   0   0   0   0   0\n",
            "    0   0   0   0   0   0   0   0   0   0]\n",
            " [  0   0   0   0   0   0   0   0   0   0   0   0   0   0   0   0   0   0\n",
            "    0   0   0   0   0   0   0   0   0   0]\n",
            " [  0   0   0   0   0   0   0   0   0   0   0   0   0   0   0   0   0   0\n",
            "    0   0   0   0   0   0   0   0   0   0]\n",
            " [  0   0   0   0   0   0   0   0   0   0   0   0   0   0   0   0   0   0\n",
            "    0   0   0   0   0   0   0   0   0   0]]\n"
          ]
        }
      ]
    },
    {
      "cell_type": "code",
      "source": [
        "# Normalize image values\n",
        "train_images = train_images/255.0\n",
        "test_images = test_images/255.0"
      ],
      "metadata": {
        "id": "LRBbvuj6LEfs"
      },
      "execution_count": 14,
      "outputs": []
    },
    {
      "cell_type": "code",
      "source": [
        "# Create a neural network model\n",
        "model = Sequential([\n",
        "    layers.Flatten(input_shape=(28, 28)),\n",
        "    layers.Dense(128, activation='relu'),\n",
        "    layers.Dense(10, activation='softmax')\n",
        "])"
      ],
      "metadata": {
        "colab": {
          "base_uri": "https://localhost:8080/"
        },
        "id": "33xRwvD0LNdV",
        "outputId": "7030b91b-589e-47b6-a15f-2c9ef8b7a958"
      },
      "execution_count": 15,
      "outputs": [
        {
          "output_type": "stream",
          "name": "stderr",
          "text": [
            "/usr/local/lib/python3.11/dist-packages/keras/src/layers/reshaping/flatten.py:37: UserWarning: Do not pass an `input_shape`/`input_dim` argument to a layer. When using Sequential models, prefer using an `Input(shape)` object as the first layer in the model instead.\n",
            "  super().__init__(**kwargs)\n"
          ]
        }
      ]
    },
    {
      "cell_type": "code",
      "source": [
        "# Compile model\n",
        "model.compile(loss='sparse_categorical_crossentropy',\n",
        "              optimizer='adam',\n",
        "              metrics=['accuracy'])"
      ],
      "metadata": {
        "id": "ERku0kepLSz-"
      },
      "execution_count": 16,
      "outputs": []
    },
    {
      "cell_type": "code",
      "source": [
        "# Train model\n",
        "history = model.fit(train_images, train_labels, validation_split=0.1, epochs=5)"
      ],
      "metadata": {
        "colab": {
          "base_uri": "https://localhost:8080/"
        },
        "id": "P9ajCHPaLYs8",
        "outputId": "6946babf-675a-4da1-b796-eb7c4b9de23b"
      },
      "execution_count": 17,
      "outputs": [
        {
          "output_type": "stream",
          "name": "stdout",
          "text": [
            "Epoch 1/5\n",
            "\u001b[1m1688/1688\u001b[0m \u001b[32m━━━━━━━━━━━━━━━━━━━━\u001b[0m\u001b[37m\u001b[0m \u001b[1m13s\u001b[0m 5ms/step - accuracy: 0.8675 - loss: 0.4634 - val_accuracy: 0.9680 - val_loss: 0.1140\n",
            "Epoch 2/5\n",
            "\u001b[1m1688/1688\u001b[0m \u001b[32m━━━━━━━━━━━━━━━━━━━━\u001b[0m\u001b[37m\u001b[0m \u001b[1m9s\u001b[0m 5ms/step - accuracy: 0.9625 - loss: 0.1245 - val_accuracy: 0.9718 - val_loss: 0.0977\n",
            "Epoch 3/5\n",
            "\u001b[1m1688/1688\u001b[0m \u001b[32m━━━━━━━━━━━━━━━━━━━━\u001b[0m\u001b[37m\u001b[0m \u001b[1m11s\u001b[0m 6ms/step - accuracy: 0.9753 - loss: 0.0831 - val_accuracy: 0.9745 - val_loss: 0.0892\n",
            "Epoch 4/5\n",
            "\u001b[1m1688/1688\u001b[0m \u001b[32m━━━━━━━━━━━━━━━━━━━━\u001b[0m\u001b[37m\u001b[0m \u001b[1m8s\u001b[0m 4ms/step - accuracy: 0.9820 - loss: 0.0584 - val_accuracy: 0.9782 - val_loss: 0.0806\n",
            "Epoch 5/5\n",
            "\u001b[1m1688/1688\u001b[0m \u001b[32m━━━━━━━━━━━━━━━━━━━━\u001b[0m\u001b[37m\u001b[0m \u001b[1m9s\u001b[0m 5ms/step - accuracy: 0.9865 - loss: 0.0458 - val_accuracy: 0.9783 - val_loss: 0.0740\n"
          ]
        }
      ]
    },
    {
      "cell_type": "code",
      "source": [
        "# Evaluate model\n",
        "def plot_graphs(history, string):\n",
        "    plt.plot(history.history[string])\n",
        "    plt.plot(history.history['val_'+string])\n",
        "    plt.title('Training and validation')\n",
        "    plt.xlabel('Epochs')\n",
        "    plt.ylabel(string)\n",
        "    plt.legend([string, 'val_'+string])\n",
        "    plt.show()\n",
        "\n",
        "plot_graphs(history, \"accuracy\")\n",
        "plot_graphs(history, \"loss\")"
      ],
      "metadata": {
        "colab": {
          "base_uri": "https://localhost:8080/",
          "height": 927
        },
        "id": "OmWN3LdJLdQH",
        "outputId": "9ec27439-c5c2-424a-ec45-e25d85c970aa"
      },
      "execution_count": 18,
      "outputs": [
        {
          "output_type": "display_data",
          "data": {
            "text/plain": [
              "<Figure size 640x480 with 1 Axes>"
            ],
            "image/png": "[encoded data removed]"
          },
          "metadata": {}
        },
        {
          "output_type": "display_data",
          "data": {
            "text/plain": [
              "<Figure size 640x480 with 1 Axes>"
            ],
            "image/png": "[encoded data removed]"
          },
          "metadata": {}
        }
      ]
    },
    {
      "cell_type": "code",
      "source": [
        "test_loss, test_acc = model.evaluate(test_images, test_labels, verbose=0)\n",
        "print(\"Test accuracy: \", test_acc)"
      ],
      "metadata": {
        "colab": {
          "base_uri": "https://localhost:8080/"
        },
        "id": "ZzN5zEbILnvZ",
        "outputId": "c13d86b2-f8e9-4124-ff52-e689e2fcfe7b"
      },
      "execution_count": 19,
      "outputs": [
        {
          "output_type": "stream",
          "name": "stdout",
          "text": [
            "Test accuracy:  0.9793999791145325\n"
          ]
        }
      ]
    },
    {
      "cell_type": "markdown",
      "source": [
        "# Transformers"
      ],
      "metadata": {
        "id": "lbLI23mxLt38"
      }
    },
    {
      "cell_type": "code",
      "source": [
        "# Import libraries\n",
        "import torch\n",
        "import torch.nn as nn\n",
        "import torch.nn.functional as F\n",
        "import numpy as np"
      ],
      "metadata": {
        "id": "r4GibmaFLsCX"
      },
      "execution_count": 20,
      "outputs": []
    },
    {
      "cell_type": "code",
      "source": [
        "# Sample training texts\n",
        "texts = [\n",
        "    \"The sun sets over the horizon.\",\n",
        "    \"A gentle breeze rustles the leaves.\",\n",
        "    \"Stars twinkle in the night sky.\",\n",
        "    \"Rain falls softly on the rooftop.\",\n",
        "    \"Birds chirp at the break of dawn.\"\n",
        "]"
      ],
      "metadata": {
        "id": "3E1E2EAjL0uj"
      },
      "execution_count": 21,
      "outputs": []
    },
    {
      "cell_type": "code",
      "source": [
        "# Build vocabulary\n",
        "chars = sorted(set(\"\".join(texts)))\n",
        "char2idx = {ch: idx for idx, ch in enumerate(chars)}\n",
        "idx2char = {idx: ch for ch, idx in char2idx.items()}\n",
        "vocab_size = len(chars)"
      ],
      "metadata": {
        "id": "BwQvrs0VL5PG"
      },
      "execution_count": 22,
      "outputs": []
    },
    {
      "cell_type": "code",
      "source": [
        "# Encode text\n",
        "def encode(text): return [char2idx[ch] for ch in text]\n",
        "def decode(indices): return \"\".join([idx2char[i] for i in indices])"
      ],
      "metadata": {
        "id": "YZQfturcL75l"
      },
      "execution_count": 23,
      "outputs": []
    },
    {
      "cell_type": "code",
      "source": [
        "# Model definition\n",
        "class SimpleTransformer(nn.Module):\n",
        "    def __init__(self, vocab_size, embed_dim=64, num_heads=4, ff_dim=128):\n",
        "        super().__init__()\n",
        "        self.embedding = nn.Embedding(vocab_size, embed_dim)\n",
        "        self.pos_embedding = nn.Parameter(torch.randn(1, 100, embed_dim))\n",
        "        encoder_layer = nn.TransformerEncoderLayer(d_model=embed_dim, nhead=num_heads, dim_feedforward=ff_dim, batch_first=True)\n",
        "        self.transformer = nn.TransformerEncoder(encoder_layer, num_layers=1)\n",
        "        self.fc = nn.Linear(embed_dim, vocab_size)\n",
        "\n",
        "    def forward(self, x):\n",
        "        x = self.embedding(x) + self.pos_embedding[:, :x.size(1), :]\n",
        "        x = self.transformer(x)\n",
        "        return self.fc(x)"
      ],
      "metadata": {
        "id": "dSjwXj9vL-7W"
      },
      "execution_count": 24,
      "outputs": []
    },
    {
      "cell_type": "code",
      "source": [
        "# Instantiate model\n",
        "model = SimpleTransformer(vocab_size)\n",
        "example = encode(\"The sun\")\n",
        "input_tensor = torch.tensor([example], dtype=torch.long)\n",
        "output = model(input_tensor)"
      ],
      "metadata": {
        "id": "Y044UZmEMDq_"
      },
      "execution_count": 25,
      "outputs": []
    },
    {
      "cell_type": "code",
      "source": [
        "# Predict next characters\n",
        "predicted = torch.argmax(output, dim=-1).squeeze().tolist()\n",
        "print(\"Input:\", decode(example))\n",
        "print(\"Predicted:\", decode(predicted))"
      ],
      "metadata": {
        "colab": {
          "base_uri": "https://localhost:8080/"
        },
        "id": "mHfxBclAMH8-",
        "outputId": "a2c69deb-d84f-4809-ffc4-fd4fced4c103"
      },
      "execution_count": 26,
      "outputs": [
        {
          "output_type": "stream",
          "name": "stdout",
          "text": [
            "Input: The sun\n",
            "Predicted: A  zfhb\n"
          ]
        }
      ]
    },
    {
      "cell_type": "markdown",
      "source": [
        "## Further improvement"
      ],
      "metadata": {
        "id": "oKOGZUIpNPTC"
      }
    },
    {
      "cell_type": "code",
      "metadata": {
        "id": "Bjz3PfIhMqLv"
      },
      "source": [
        "from tensorflow.keras.preprocessing.sequence import pad_sequences\n",
        "\n",
        "encoded_texts = [encode(text) for text in texts]\n",
        "max_len = max(len(seq) for seq in encoded_texts)\n",
        "padded_sequences = pad_sequences(encoded_texts, maxlen=max_len, padding='post', value=0)\n",
        "input_tensor = torch.tensor(padded_sequences, dtype=torch.long)"
      ],
      "execution_count": 27,
      "outputs": []
    },
    {
      "cell_type": "code",
      "metadata": {
        "id": "06fc4fee"
      },
      "source": [
        "# Parameters\n",
        "learning_rate = 0.0001\n",
        "epochs = 10000\n",
        "batch_size = 32"
      ],
      "execution_count": 28,
      "outputs": []
    },
    {
      "cell_type": "code",
      "metadata": {
        "colab": {
          "base_uri": "https://localhost:8080/"
        },
        "id": "FTqwz5JXM04L",
        "outputId": "97c90af1-d99f-44ed-95c3-a1a52b4217ee"
      },
      "source": [
        "optimizer = torch.optim.Adam(model.parameters(), lr=learning_rate)\n",
        "criterion = nn.CrossEntropyLoss()\n",
        "\n",
        "for epoch in range(epochs):\n",
        "    for i in range(0, input_tensor.size(0), batch_size):\n",
        "        batch = input_tensor[i:i+batch_size]\n",
        "        inputs = batch[:, :-1]\n",
        "        targets = batch[:, 1:]\n",
        "\n",
        "        optimizer.zero_grad()\n",
        "        outputs = model(inputs)\n",
        "        loss = criterion(outputs.reshape(-1, vocab_size), targets.reshape(-1))\n",
        "\n",
        "        loss.backward()\n",
        "        optimizer.step()\n",
        "\n",
        "    if (epoch+1) % 2000 == 0:\n",
        "        print(f'Epoch [{epoch+1}/{epochs}], Loss: {loss.item():.4f}')"
      ],
      "execution_count": 29,
      "outputs": [
        {
          "output_type": "stream",
          "name": "stdout",
          "text": [
            "Epoch [2000/10000], Loss: 0.0213\n",
            "Epoch [4000/10000], Loss: 0.0043\n",
            "Epoch [6000/10000], Loss: 0.0014\n",
            "Epoch [8000/10000], Loss: 0.0005\n",
            "Epoch [10000/10000], Loss: 0.0002\n"
          ]
        }
      ]
    },
    {
      "cell_type": "code",
      "metadata": {
        "colab": {
          "base_uri": "https://localhost:8080/"
        },
        "id": "468636c8",
        "outputId": "bd38a40d-a1c3-4645-aa68-cf63563b9c92"
      },
      "source": [
        "# Evaluate\n",
        "sample_text = \"Stars \"\n",
        "encoded_sample = encode(sample_text)\n",
        "input_sample_tensor = torch.tensor([encoded_sample], dtype=torch.long)\n",
        "\n",
        "model.eval()\n",
        "with torch.no_grad():\n",
        "    output_sample = model(input_sample_tensor)\n",
        "\n",
        "predicted_indices = torch.argmax(output_sample, dim=-1).squeeze().tolist()\n",
        "predicted_text = decode(predicted_indices)\n",
        "\n",
        "print(\"Original Input:\", sample_text)\n",
        "print(\"Predicted Output:\", predicted_text)"
      ],
      "execution_count": 30,
      "outputs": [
        {
          "output_type": "stream",
          "name": "stdout",
          "text": [
            "Original Input: Stars \n",
            "Predicted Output:  aes  \n"
          ]
        }
      ]
    },
    {
      "cell_type": "code",
      "source": [],
      "metadata": {
        "id": "cEcLAfVhNm4w"
      },
      "execution_count": 30,
      "outputs": []
    }
  ]
}